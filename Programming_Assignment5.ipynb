{
 "cells": [
  {
   "cell_type": "markdown",
   "metadata": {},
   "source": [
    "# 1. Write a Python Program to Find LCM?\n",
    "\n",
    "### LCM * HCF = Product of numbers."
   ]
  },
  {
   "cell_type": "code",
   "execution_count": 25,
   "metadata": {},
   "outputs": [
    {
     "name": "stdout",
     "output_type": "stream",
     "text": [
      "Enter any Natural number :5\n",
      "Enter any Natural number2\n",
      "10\n"
     ]
    }
   ],
   "source": [
    "import math\n",
    "\n",
    "def lcm(a, b):\n",
    "    return ((a * b) // math.gcd(a,b))\n",
    "\n",
    "def main():\n",
    "    x = int(input(\"Enter any Natural number :\"))\n",
    "    y = int(input(\"Enter any Natural number\"))\n",
    "    print(lcm(x,y))\n",
    "    \n",
    "if __name__ == \"__main__\":\n",
    "    main()"
   ]
  },
  {
   "cell_type": "markdown",
   "metadata": {},
   "source": [
    "# 2. Write a Python Program to Find HCF?"
   ]
  },
  {
   "cell_type": "code",
   "execution_count": 29,
   "metadata": {},
   "outputs": [
    {
     "name": "stdout",
     "output_type": "stream",
     "text": [
      "Enter any Natural number :10\n",
      "Enter any Natural number20\n",
      "10\n"
     ]
    }
   ],
   "source": [
    "import math\n",
    "\n",
    "def hcf(a,b):\n",
    "    return math.gcd(a,b)\n",
    "\n",
    "def main():\n",
    "    x = int(input(\"Enter any Natural number :\"))\n",
    "    y = int(input(\"Enter any Natural number\"))\n",
    "    print(hcf(x,y))\n",
    "    \n",
    "if __name__ == \"__main__\":\n",
    "    main()"
   ]
  },
  {
   "cell_type": "markdown",
   "metadata": {},
   "source": [
    "# 3. Write a Python Program to Convert Decimal to Binary, Octal and Hexadecimal?"
   ]
  },
  {
   "cell_type": "code",
   "execution_count": 148,
   "metadata": {},
   "outputs": [
    {
     "name": "stdout",
     "output_type": "stream",
     "text": [
      "Enter to convert :150\n",
      "\n",
      "Enter any no from following :\n",
      "1. Binary_2_Decimal \n",
      "2. Decimal_2_Binary \n",
      "3. Decimal_2_Octal \n",
      "4. Decimal_2_Hexadecimal\n",
      "2\n",
      "\n",
      "10010110\n"
     ]
    }
   ],
   "source": [
    "class conversion:\n",
    "    \n",
    "    def Binary_2_Decimal(n):\n",
    "        n = str(n)\n",
    "        return int(n,2)\n",
    "    \n",
    "    def Decimal_2_Binary(n):\n",
    "        return bin(n)[2:]\n",
    "    \n",
    "    def Decimal_2_Octal(n):\n",
    "        return oct(n)\n",
    "    \n",
    "    def Decimal_2_Hexadecimal(n):\n",
    "        return hex(n)\n",
    "    \n",
    "def main():\n",
    "    l = [\"Binary_2_Decimal\",\"Decimal_2_Binary\",\"Decimal_2_Octal\",\"Decimal_2_Hexadecimal\"]\n",
    "    x = int(input(\"Enter to convert :\"))\n",
    "    print()\n",
    "    print(\"Enter any no from following :\")\n",
    "    select = str(input(\"1. {0} \\n2. {1} \\n3. {2} \\n4. {3}\\n\".format(l[0],l[1],l[2],l[3])))\n",
    "    \n",
    "    dic = {\"1\" : conversion.Binary_2_Decimal, \"2\" : conversion.Decimal_2_Binary, \\\n",
    "           \"3\" : conversion.Decimal_2_Octal, \"4\" : conversion.Decimal_2_Hexadecimal}\n",
    "    print()\n",
    "    print(dic[select](x))\n",
    "    \n",
    "if __name__ == \"__main__\":\n",
    "    main()\n",
    "    "
   ]
  },
  {
   "cell_type": "markdown",
   "metadata": {},
   "source": [
    "# 4. Write a Python Program To Find ASCII value of a character?"
   ]
  },
  {
   "cell_type": "code",
   "execution_count": 172,
   "metadata": {},
   "outputs": [
    {
     "name": "stdout",
     "output_type": "stream",
     "text": [
      "Enter to convert :A\n",
      "65\n"
     ]
    }
   ],
   "source": [
    "def chr_2_ascii(x):\n",
    "    return ord(str(x))\n",
    "\n",
    "def ascii_2_chr(x):\n",
    "    return chr(int(x))\n",
    "\n",
    "def main():\n",
    "    x = input(\"Enter to convert :\")\n",
    "    if x.isdecimal() == True:\n",
    "        print(ascii_2_chr(x))\n",
    "    else:\n",
    "        print(chr_2_ascii(x))\n",
    "    \n",
    "if __name__ == \"__main__\":\n",
    "    main()"
   ]
  },
  {
   "cell_type": "markdown",
   "metadata": {},
   "source": [
    "# 5. Write a Python Program to Make a Simple Calculator with 4 basic mathematical operations?"
   ]
  },
  {
   "cell_type": "code",
   "execution_count": 280,
   "metadata": {},
   "outputs": [
    {
     "name": "stdout",
     "output_type": "stream",
     "text": [
      "Enter two nos with comma sep. : 10,2\n",
      "Select the operation by number :\n",
      "1. add \n",
      "2. sub \n",
      "3. mul \n",
      "4. truediv\n",
      "4\n",
      "\n",
      "5.0\n"
     ]
    }
   ],
   "source": [
    "from operator import add, sub, mul, truediv\n",
    "\n",
    "class calculator:\n",
    "    def __init__(self, a, b):\n",
    "        self.a = a\n",
    "        self.b = b\n",
    "        \n",
    "    def fun(self, function):\n",
    "        return function(self.a, self.b)\n",
    "    \n",
    "        \n",
    "def main():\n",
    "    dic = {\"1\" : [add,\"add\"], \"2\" : [sub,\"sub\"] , \"3\" : [mul,\"mul\"], \"4\" : [truediv,\"truediv\"]}\n",
    "    x,y = input(\"Enter two nos with comma sep. : \").strip().split(sep = \",\")\n",
    "    select = str(input(\"Select the operation by number :\\n1. {0} \\n2. {1} \\n3. {2} \\n4. {3}\\n\".format(dic[\"1\"][1],dic[\"2\"][1],dic[\"3\"][1],dic[\"4\"][1])))\n",
    "    obj = calculator(float(x),float(y))\n",
    "    print()\n",
    "    print(obj.fun(dic[select][0]))\n",
    "    \n",
    "if __name__ == '__main__':\n",
    "    main()"
   ]
  }
 ],
 "metadata": {
  "kernelspec": {
   "display_name": "Python 3",
   "language": "python",
   "name": "python3"
  },
  "language_info": {
   "codemirror_mode": {
    "name": "ipython",
    "version": 3
   },
   "file_extension": ".py",
   "mimetype": "text/x-python",
   "name": "python",
   "nbconvert_exporter": "python",
   "pygments_lexer": "ipython3",
   "version": "3.8.5"
  }
 },
 "nbformat": 4,
 "nbformat_minor": 4
}
