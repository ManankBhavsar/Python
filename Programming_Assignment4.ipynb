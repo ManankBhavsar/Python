{
 "cells": [
  {
   "cell_type": "markdown",
   "metadata": {},
   "source": [
    "# 1. Write a Python Program to Find the Factorial of a Number?"
   ]
  },
  {
   "cell_type": "code",
   "execution_count": 7,
   "metadata": {},
   "outputs": [
    {
     "name": "stdout",
     "output_type": "stream",
     "text": [
      "Enter any number : 5\n",
      "factorial of 5 :  120\n"
     ]
    }
   ],
   "source": [
    "def factorial(n):\n",
    "    fact = 1\n",
    "    \n",
    "    for i in range(1,n+1):\n",
    "        fact = fact * i\n",
    "    return fact\n",
    "\n",
    "def main():\n",
    "    x = int(input(\"Enter any number : \"))\n",
    "    print(\"factorial of {} : \".format(x), factorial(x))\n",
    "    \n",
    "if __name__ == \"__main__\":\n",
    "    main()"
   ]
  },
  {
   "cell_type": "markdown",
   "metadata": {},
   "source": [
    "# 2. Write a Python Program to Display the multiplication Table?"
   ]
  },
  {
   "cell_type": "code",
   "execution_count": 12,
   "metadata": {},
   "outputs": [
    {
     "name": "stdout",
     "output_type": "stream",
     "text": [
      "Enter any no for table : 5\n",
      "5 x 1 = 5\n",
      "5 x 2 = 10\n",
      "5 x 3 = 15\n",
      "5 x 4 = 20\n",
      "5 x 5 = 25\n",
      "5 x 6 = 30\n",
      "5 x 7 = 35\n",
      "5 x 8 = 40\n",
      "5 x 9 = 45\n",
      "5 x 10 = 50\n"
     ]
    }
   ],
   "source": [
    "def Multi_Table(n):\n",
    "    for j in range(1,11):\n",
    "        prod = n*j\n",
    "        print(\"{0} x {1} = {2}\".format(n,j,prod))\n",
    "\n",
    "def main():\n",
    "    x = int(input(\"Enter any no for table : \"))\n",
    "    Multi_Table(x)\n",
    "    \n",
    "if __name__ == \"__main__\":\n",
    "    main()\n",
    "        "
   ]
  },
  {
   "cell_type": "markdown",
   "metadata": {},
   "source": [
    "# 3. Write a Python Program to Print the Fibonacci sequence?"
   ]
  },
  {
   "cell_type": "code",
   "execution_count": 52,
   "metadata": {},
   "outputs": [
    {
     "name": "stdout",
     "output_type": "stream",
     "text": [
      "Enter any positive number as limit : 2\n",
      "0\n",
      "1\n"
     ]
    }
   ],
   "source": [
    "\n",
    "def fibonacci(n):\n",
    "    x = 0\n",
    "    y = 1\n",
    "    for i in range(0,n):\n",
    "        print(x)\n",
    "        z = x + y\n",
    "        x = y\n",
    "        y = z\n",
    "        \n",
    "\n",
    "def main():\n",
    "    num = int(input(\"Enter any positive number as limit : \"))\n",
    "    fibonacci(num)\n",
    "\n",
    "if __name__ == \"__main__\":\n",
    "    main()"
   ]
  },
  {
   "cell_type": "markdown",
   "metadata": {},
   "source": [
    "# 4. Write a Python Program to Check Armstrong Number?"
   ]
  },
  {
   "cell_type": "code",
   "execution_count": 86,
   "metadata": {},
   "outputs": [
    {
     "name": "stdout",
     "output_type": "stream",
     "text": [
      "Enter any positive number : 153\n",
      "Armstrong No\n"
     ]
    }
   ],
   "source": [
    "def armstrong(num):\n",
    "    n = str(num)\n",
    "    armst = 0\n",
    "    \n",
    "    for i in n:\n",
    "        p = int(i)**len(n)\n",
    "        armst += p\n",
    "\n",
    "    if armst == int(n):\n",
    "        print(\"Armstrong No\")\n",
    "    else:\n",
    "        print(\"Not Armstrong No\")\n",
    "\n",
    "def main():\n",
    "    x = int(input(\"Enter any positive number : \"))\n",
    "    armstrong(x)\n",
    "\n",
    "if __name__ == \"__main__\":\n",
    "    main()\n",
    "\n",
    "    "
   ]
  },
  {
   "cell_type": "markdown",
   "metadata": {},
   "source": [
    "# 5. Write a Python Program to Find Armstrong Number in an Interval?"
   ]
  },
  {
   "cell_type": "code",
   "execution_count": 91,
   "metadata": {},
   "outputs": [
    {
     "name": "stdout",
     "output_type": "stream",
     "text": [
      "Enter lower limit : 1\n",
      "Enter upper limit : 200\n",
      "1  2  3  4  5  6  7  8  9  153  "
     ]
    }
   ],
   "source": [
    "def armstrong(n1,n2):\n",
    "    \n",
    "    for i in range(n1, n2 + 1): \n",
    "        armst = 0\n",
    "        n = str(i)\n",
    "        for j in n:       \n",
    "            p = int(j)**len(n)\n",
    "            armst += p\n",
    "\n",
    "        if armst == int(n):\n",
    "            print(n, end = \"  \")\n",
    "\n",
    "def main():\n",
    "    x = int(input(\"Enter lower limit : \"))\n",
    "    y = int(input(\"Enter upper limit : \"))\n",
    "    armstrong(x,y)\n",
    "\n",
    "if __name__ == \"__main__\":\n",
    "    main()"
   ]
  },
  {
   "cell_type": "markdown",
   "metadata": {},
   "source": [
    "# 6. Write a Python Program to Find the Sum of Natural Numbers?"
   ]
  },
  {
   "cell_type": "code",
   "execution_count": 99,
   "metadata": {},
   "outputs": [
    {
     "name": "stdout",
     "output_type": "stream",
     "text": [
      "Enter lower limit : 2\n",
      "Enter upper limit : 5\n",
      "14\n"
     ]
    }
   ],
   "source": [
    "def natural_sum(n1,n2):\n",
    "    s = 0\n",
    "    for i in range(n1, n2 + 1):\n",
    "        if i == 0:\n",
    "            continue\n",
    "        elif i>0:\n",
    "            s += i\n",
    "        else:\n",
    "            print(\"Provide valid range\")\n",
    "            break\n",
    "    return s\n",
    "\n",
    "def main():\n",
    "    x = int(input(\"Enter lower limit : \"))\n",
    "    y = int(input(\"Enter upper limit : \"))\n",
    "    print(natural_sum(x,y))\n",
    "\n",
    "if __name__ == \"__main__\":\n",
    "    main()    \n",
    "    "
   ]
  }
 ],
 "metadata": {
  "kernelspec": {
   "display_name": "Python 3",
   "language": "python",
   "name": "python3"
  },
  "language_info": {
   "codemirror_mode": {
    "name": "ipython",
    "version": 3
   },
   "file_extension": ".py",
   "mimetype": "text/x-python",
   "name": "python",
   "nbconvert_exporter": "python",
   "pygments_lexer": "ipython3",
   "version": "3.8.5"
  }
 },
 "nbformat": 4,
 "nbformat_minor": 4
}
