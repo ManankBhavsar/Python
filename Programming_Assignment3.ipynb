{
 "cells": [
  {
   "cell_type": "markdown",
   "metadata": {},
   "source": [
    "# 1. Write a Python Program to Check if a Number is Positive, Negative or Zero?"
   ]
  },
  {
   "cell_type": "code",
   "execution_count": 6,
   "metadata": {},
   "outputs": [
    {
     "name": "stdout",
     "output_type": "stream",
     "text": [
      "Enter any number : -1\n",
      "Number is Negative\n"
     ]
    }
   ],
   "source": [
    "def Number(n):\n",
    "    if n == 0:\n",
    "        print(\"Number is Zero\")\n",
    "    elif n > 0:\n",
    "        print(\"Number is Positive\")\n",
    "    else:\n",
    "        print(\"Number is Negative\")\n",
    "        \n",
    "def main():\n",
    "    x = float(input(\"Enter any number : \"))\n",
    "    Number(x)\n",
    "    \n",
    "if __name__ == \"__main__\":\n",
    "    main()"
   ]
  },
  {
   "cell_type": "markdown",
   "metadata": {},
   "source": [
    "# 2. Write a Python Program to Check if a Number is Odd or Even?"
   ]
  },
  {
   "cell_type": "code",
   "execution_count": 8,
   "metadata": {},
   "outputs": [
    {
     "name": "stdout",
     "output_type": "stream",
     "text": [
      "Enter any number : 4\n",
      "Number is Even\n"
     ]
    }
   ],
   "source": [
    "def Number(n):\n",
    "    \n",
    "    if n%2==0:\n",
    "        print(\"Number is Even\")\n",
    "    else:\n",
    "        print(\"Number is Odd\")\n",
    "        \n",
    "def main():\n",
    "    x = int(input(\"Enter any number : \"))\n",
    "    Number(x)\n",
    "    \n",
    "if __name__ == \"__main__\":\n",
    "    main()"
   ]
  },
  {
   "cell_type": "markdown",
   "metadata": {},
   "source": [
    "# 3. Write a Python Program to Check Leap Year?"
   ]
  },
  {
   "cell_type": "code",
   "execution_count": 24,
   "metadata": {},
   "outputs": [
    {
     "name": "stdout",
     "output_type": "stream",
     "text": [
      "Enter any year to check for leap year : 1900\n",
      "This year is not leap year\n"
     ]
    }
   ],
   "source": [
    "def leap_year(n):\n",
    "    \n",
    "    if n%4==0:\n",
    "        if n%100==0:\n",
    "            if n%400==0:\n",
    "                print(\"This year is leap year\")\n",
    "            else:\n",
    "                print(\"This year is not leap year\")\n",
    "        else:\n",
    "            print(\"This year is leap year\")              \n",
    "    else:\n",
    "        print(\"This year is not leap year\")\n",
    "        \n",
    "def main():\n",
    "    x = int(input(\"Enter any year to check for leap year : \"))\n",
    "    leap_year(x)\n",
    "    \n",
    "if __name__ == \"__main__\":\n",
    "    main()"
   ]
  },
  {
   "cell_type": "markdown",
   "metadata": {},
   "source": [
    "# 4. Write a Python Program to Check Prime Number?"
   ]
  },
  {
   "cell_type": "code",
   "execution_count": 64,
   "metadata": {},
   "outputs": [
    {
     "name": "stdout",
     "output_type": "stream",
     "text": [
      "Enter any Number: 5\n",
      "Prime Number\n"
     ]
    }
   ],
   "source": [
    "def prime_no(n):\n",
    "    flag = 0\n",
    "    if n > 1:\n",
    "        for i in range(2,n):\n",
    "            if n%i==0:\n",
    "                flag += 1\n",
    "        if flag >= 1:\n",
    "            print(\"Not Prime Number\")\n",
    "        else:\n",
    "            print(\"Prime Number\")\n",
    "    else:\n",
    "        print(\"Not Prime Number\")\n",
    "        \n",
    "def main():\n",
    "    x = int(input(\"Enter any Number: \"))\n",
    "    prime_no(x)\n",
    "    \n",
    "if __name__ == \"__main__\":\n",
    "    main()"
   ]
  },
  {
   "cell_type": "code",
   "execution_count": 67,
   "metadata": {},
   "outputs": [
    {
     "name": "stdout",
     "output_type": "stream",
     "text": [
      "Enter any Number: 8\n",
      "Not Prime Number\n"
     ]
    }
   ],
   "source": [
    "def prime_no(n):\n",
    "    flag = 0\n",
    "    if n > 1:\n",
    "        for i in range(2,n):\n",
    "            if n%i==0:\n",
    "                flag = 1\n",
    "                break\n",
    "        if flag == 1:\n",
    "            print(\"Not Prime Number\")\n",
    "        else:\n",
    "            print(\"Prime Number\")\n",
    "    else:\n",
    "        print(\"Not Prime Number\")\n",
    "        \n",
    "def main():\n",
    "    x = int(input(\"Enter any Number: \"))\n",
    "    prime_no(x)\n",
    "    \n",
    "if __name__ == \"__main__\":\n",
    "    main()"
   ]
  },
  {
   "cell_type": "markdown",
   "metadata": {},
   "source": [
    "# 5. Write a Python Program to Print all Prime Numbers in an Interval of 1-10000?"
   ]
  },
  {
   "cell_type": "code",
   "execution_count": 115,
   "metadata": {},
   "outputs": [
    {
     "name": "stdout",
     "output_type": "stream",
     "text": [
      "Enter Upper limit: 10\n",
      "2\n",
      "3\n",
      "5\n",
      "7\n"
     ]
    }
   ],
   "source": [
    "def prime_no(n):                      # only upper limit \n",
    "    \n",
    "    if n == 1:\n",
    "        print(2)\n",
    "    \n",
    "    if n == 2:\n",
    "        print(2)\n",
    "        \n",
    "    if n > 2 :\n",
    "        print(2)\n",
    "        print(3)\n",
    "        \n",
    "        for i in range(4,n+1):             \n",
    "            for j in range(2,i):\n",
    "                if i%j == 0:\n",
    "                    break\n",
    "            else:\n",
    "                print(i)\n",
    "\n",
    "def main():\n",
    "    x = int(input(\"Enter Upper limit: \"))\n",
    "    prime_no(x)\n",
    "    \n",
    "if __name__ == \"__main__\":\n",
    "    main()"
   ]
  },
  {
   "cell_type": "code",
   "execution_count": 143,
   "metadata": {},
   "outputs": [
    {
     "name": "stdout",
     "output_type": "stream",
     "text": [
      "Enter Lower limit: 0\n",
      "Enter Upper limit: 16\n",
      "2\n",
      "3\n",
      "5\n",
      "7\n",
      "11\n",
      "13\n"
     ]
    }
   ],
   "source": [
    "def prime_no(l,n):                                # upper and lower limit both\n",
    "    \n",
    "    if n == 1:\n",
    "        print(\"NO Prime Numbers\")\n",
    "    \n",
    "    if n == 2:\n",
    "        print(2)\n",
    "        \n",
    "    if n > 2 :\n",
    "        # print(2)\n",
    "        # print(3)\n",
    "        \n",
    "        for i in range(l,n+1): \n",
    "            if i > 1:\n",
    "                for j in range(2,i):\n",
    "                    if i%j == 0:\n",
    "                        break\n",
    "                else:\n",
    "                    print(i)\n",
    "    \n",
    "def main():\n",
    "    x = int(input(\"Enter Lower limit: \"))\n",
    "    y = int(input(\"Enter Upper limit: \"))\n",
    "    prime_no(x, y)\n",
    "    \n",
    "if __name__ == \"__main__\":\n",
    "    main()"
   ]
  }
 ],
 "metadata": {
  "kernelspec": {
   "display_name": "Python 3",
   "language": "python",
   "name": "python3"
  },
  "language_info": {
   "codemirror_mode": {
    "name": "ipython",
    "version": 3
   },
   "file_extension": ".py",
   "mimetype": "text/x-python",
   "name": "python",
   "nbconvert_exporter": "python",
   "pygments_lexer": "ipython3",
   "version": "3.8.5"
  }
 },
 "nbformat": 4,
 "nbformat_minor": 4
}
