{
 "cells": [
  {
   "cell_type": "markdown",
   "metadata": {},
   "source": [
    "# 1. Write a Python Program to Display Fibonacci Sequence Using Recursion?"
   ]
  },
  {
   "cell_type": "code",
   "execution_count": 12,
   "metadata": {},
   "outputs": [
    {
     "name": "stdout",
     "output_type": "stream",
     "text": [
      "Enter total no to print : 10\n",
      "0 1 1 2 3 5 8 13 21 34 "
     ]
    }
   ],
   "source": [
    "def fibo(limit):\n",
    "    a = 0\n",
    "    b = 1\n",
    "    for i in range(1, limit+1):\n",
    "        print(a, end = \" \") \n",
    "        a,b = b,(a + b)        \n",
    "    \n",
    "def main():\n",
    "    fibo(int(input(\"Enter total no to print : \")))\n",
    "    \n",
    "if __name__ == \"__main__\":\n",
    "    main()    "
   ]
  },
  {
   "cell_type": "markdown",
   "metadata": {},
   "source": [
    "# 2. Write a Python Program to Find Factorial of Number Using Recursion?"
   ]
  },
  {
   "cell_type": "code",
   "execution_count": 28,
   "metadata": {},
   "outputs": [
    {
     "name": "stdout",
     "output_type": "stream",
     "text": [
      "Enter no to get factorial : 2\n",
      "2\n"
     ]
    }
   ],
   "source": [
    "def fac(n):\n",
    "    prod = 1\n",
    "    for i in range(1,n+1):\n",
    "        prod *= i     \n",
    "    return prod\n",
    "            \n",
    "def main():\n",
    "    print(fac(int(input(\"Enter no to get factorial : \"))))\n",
    "    \n",
    "if __name__ == \"__main__\":\n",
    "    main()  "
   ]
  },
  {
   "cell_type": "markdown",
   "metadata": {},
   "source": [
    "# 3. Write a Python Program to calculate your Body Mass Index?\n",
    "\t\n",
    "### BMI Categories:\n",
    "\n",
    "Underweight = <18.5\n",
    "\n",
    "Normal weight = 18.5–24.9\n",
    "\n",
    "Overweight = 25–29.9\n",
    "\n",
    "Obesity = BMI of 30 or greater"
   ]
  },
  {
   "cell_type": "code",
   "execution_count": 44,
   "metadata": {},
   "outputs": [
    {
     "name": "stdout",
     "output_type": "stream",
     "text": [
      "Enter your body weight in 'kg' : 65\n",
      "Enter your body height in 'cm' : 165\n",
      "Your BMI index is : 23.9\n",
      "You have Normal weight\n"
     ]
    }
   ],
   "source": [
    "def bmi(a,b):\n",
    "    global BMI\n",
    "    BMI = round(a/(b/100)**2,1)\n",
    "    return BMI\n",
    "\n",
    "def categories():\n",
    "    if BMI <= 18.5:\n",
    "        print(\"You are Underweight\")\n",
    "    elif (BMI > 18.5) and (BMI < 25):\n",
    "        print(\"You have Normal weight\")\n",
    "    elif (BMI > 25) and (BMI < 30):\n",
    "        print(\"You are Overweight\")\n",
    "    else:\n",
    "        print(\"You have Obesity\")\n",
    "    \n",
    "def main():\n",
    "    print(\"Your BMI index is :\",bmi(float(input(\"Enter your body weight in 'kg' : \")),\\\n",
    "                                    float(input(\"Enter your body height in 'cm' : \"))))\n",
    "    categories()\n",
    "if __name__ == \"__main__\":\n",
    "    main()"
   ]
  },
  {
   "cell_type": "markdown",
   "metadata": {},
   "source": [
    "# 4. Write a Python Program to calculate the natural logarithm of any number?"
   ]
  },
  {
   "cell_type": "code",
   "execution_count": 51,
   "metadata": {},
   "outputs": [
    {
     "name": "stdout",
     "output_type": "stream",
     "text": [
      "Enter any number : 5\n",
      "1.6094\n"
     ]
    }
   ],
   "source": [
    "import math\n",
    "\n",
    "def natural_log(n):\n",
    "    return round(math.log(n),4)\n",
    "\n",
    "def main():\n",
    "    print(natural_log(float(input(\"Enter any number : \"))))\n",
    "\n",
    "if __name__ == \"__main__\":\n",
    "    main()"
   ]
  },
  {
   "cell_type": "markdown",
   "metadata": {},
   "source": [
    "# 5. Write a Python Program for cube sum of first n natural numbers?"
   ]
  },
  {
   "cell_type": "code",
   "execution_count": 59,
   "metadata": {},
   "outputs": [
    {
     "name": "stdout",
     "output_type": "stream",
     "text": [
      "Enter any natural number as upper limit : 2\n",
      "9\n"
     ]
    }
   ],
   "source": [
    "def cube_sum(n):\n",
    "    if n > 0:\n",
    "        sum = ((n*(n+1))/2)**2\n",
    "        return int(sum)\n",
    "        \n",
    "    else:\n",
    "        print(\"No is not natural no\")\n",
    "        \n",
    "def main():\n",
    "    print(cube_sum(int(input(\"Enter any natural number as upper limit : \"))))\n",
    "\n",
    "if __name__ == \"__main__\":\n",
    "    main()"
   ]
  }
 ],
 "metadata": {
  "kernelspec": {
   "display_name": "Python 3",
   "language": "python",
   "name": "python3"
  },
  "language_info": {
   "codemirror_mode": {
    "name": "ipython",
    "version": 3
   },
   "file_extension": ".py",
   "mimetype": "text/x-python",
   "name": "python",
   "nbconvert_exporter": "python",
   "pygments_lexer": "ipython3",
   "version": "3.8.5"
  }
 },
 "nbformat": 4,
 "nbformat_minor": 4
}
