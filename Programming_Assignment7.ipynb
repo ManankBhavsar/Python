{
 "cells": [
  {
   "cell_type": "markdown",
   "metadata": {},
   "source": [
    "# 1. Write a Python Program to find sum of array?"
   ]
  },
  {
   "cell_type": "code",
   "execution_count": 40,
   "metadata": {},
   "outputs": [
    {
     "name": "stdout",
     "output_type": "stream",
     "text": [
      "Enter numbers with comma separation10,20,30\n",
      "60.0\n"
     ]
    }
   ],
   "source": [
    "def sum_array(x):\n",
    "    return sum(x)\n",
    "\n",
    "def main():\n",
    "    print(sum_array([float(i) for i in input(\"Enter numbers with comma separation\").strip().split(sep=\",\")]))\n",
    "\n",
    "if __name__ == \"__main__\":\n",
    "    main()"
   ]
  },
  {
   "cell_type": "markdown",
   "metadata": {},
   "source": [
    "# 2. Write a Python Program to find largest element in an array?"
   ]
  },
  {
   "cell_type": "code",
   "execution_count": 42,
   "metadata": {},
   "outputs": [
    {
     "name": "stdout",
     "output_type": "stream",
     "text": [
      "Enter numbers with comma separation10,50,20\n",
      "50.0\n"
     ]
    }
   ],
   "source": [
    "def sum_array(x):\n",
    "    return max(x)\n",
    "\n",
    "def main():\n",
    "    print(sum_array([float(i) for i in input(\"Enter numbers with comma separation\").strip().split(sep=\",\")]))\n",
    "\n",
    "if __name__ == \"__main__\":\n",
    "    main()"
   ]
  },
  {
   "cell_type": "markdown",
   "metadata": {},
   "source": [
    "# 3. Write a Python Program for array rotation?"
   ]
  },
  {
   "cell_type": "code",
   "execution_count": 79,
   "metadata": {},
   "outputs": [
    {
     "name": "stdout",
     "output_type": "stream",
     "text": [
      "Enter numbers with comma separation : 1,2,3\n",
      "Enter rotation no : 2\n",
      "[3, 1, 2]\n"
     ]
    }
   ],
   "source": [
    "def rotate_arr(a,rotation):\n",
    "    if rotation < len(a):\n",
    "        temp = []\n",
    "        temp.extend(a[0:rotation])\n",
    "        l1 = []\n",
    "        for i in range(len(a) - rotation):\n",
    "            l1.append(a[i + rotation])\n",
    "        l1.extend(temp)\n",
    "        del a\n",
    "        return l1\n",
    "    else:\n",
    "        print(\"Rotation no is invalid\")\n",
    "        \n",
    "\n",
    "def main():\n",
    "    print(rotate_arr([int(i) for i in input(\"Enter numbers with comma separation : \").strip().split(sep=\",\")],\\\n",
    "                    int(input(\"Enter rotation no : \"))))\n",
    "\n",
    "if __name__ == \"__main__\":\n",
    "    main()"
   ]
  },
  {
   "cell_type": "markdown",
   "metadata": {},
   "source": [
    "# 4. Write a Python Program to Split the array and add the first part to the end?"
   ]
  },
  {
   "cell_type": "code",
   "execution_count": 81,
   "metadata": {},
   "outputs": [
    {
     "name": "stdout",
     "output_type": "stream",
     "text": [
      "Enter numbers with comma separation : 1,2,3,4,5\n",
      "Enter split index start from '1': 2\n",
      "[3, 4, 5, 1, 2]\n"
     ]
    }
   ],
   "source": [
    "def split_arr(a, split):\n",
    "    if split < len(a):\n",
    "        temp = []\n",
    "        temp.extend(a[0:split])\n",
    "        l1 = []\n",
    "        for i in range(len(a) - split):\n",
    "            l1.append(a[i + split])\n",
    "        l1.extend(temp)\n",
    "        del a\n",
    "        return l1\n",
    "    else:\n",
    "        print(\"split index is invalid\")\n",
    "        \n",
    "\n",
    "def main():\n",
    "    print(split_arr([int(i) for i in input(\"Enter numbers with comma separation : \").strip().split(sep=\",\")],\\\n",
    "                    int(input(\"Enter split index start from '1': \"))))\n",
    "\n",
    "if __name__ == \"__main__\":\n",
    "    main()"
   ]
  },
  {
   "cell_type": "markdown",
   "metadata": {},
   "source": [
    "# 5. Write a Python Program to check if given array is Monotonic?"
   ]
  },
  {
   "cell_type": "code",
   "execution_count": 128,
   "metadata": {},
   "outputs": [
    {
     "name": "stdout",
     "output_type": "stream",
     "text": [
      "Enter numbers with comma separation : 3,2,5\n",
      "Non Monotonic\n"
     ]
    }
   ],
   "source": [
    "from operator import lt, gt\n",
    "\n",
    "def monotonic_arr(a, func):\n",
    "    flag = 1\n",
    "    for i in range(len(a)-1):\n",
    "        if func(a[i],a[i+1]) == True:\n",
    "            flag += 1\n",
    "        else:\n",
    "            print(\"Non Monotonic\")\n",
    "            break\n",
    "                \n",
    "    if flag == len(a):\n",
    "        print(\"Monotonic\")\n",
    "\n",
    "def main():\n",
    "    x = [int(i) for i in input(\"Enter numbers with comma separation : \").strip().split(sep=\",\")]\n",
    "    y = gt if (x[0]>x[1]) else lt\n",
    "    monotonic_arr(x,y)\n",
    "\n",
    "if __name__ == \"__main__\":\n",
    "    main()"
   ]
  },
  {
   "cell_type": "code",
   "execution_count": null,
   "metadata": {},
   "outputs": [],
   "source": []
  }
 ],
 "metadata": {
  "kernelspec": {
   "display_name": "Python 3",
   "language": "python",
   "name": "python3"
  },
  "language_info": {
   "codemirror_mode": {
    "name": "ipython",
    "version": 3
   },
   "file_extension": ".py",
   "mimetype": "text/x-python",
   "name": "python",
   "nbconvert_exporter": "python",
   "pygments_lexer": "ipython3",
   "version": "3.8.5"
  }
 },
 "nbformat": 4,
 "nbformat_minor": 4
}
