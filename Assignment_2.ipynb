{
 "cells": [
  {
   "cell_type": "markdown",
   "metadata": {},
   "source": [
    "## 1.What are the two values of the Boolean data type? How do you write them?\n",
    "### *Two values of the Boolean data type are True ---> 1, False ----> 0.*"
   ]
  },
  {
   "cell_type": "markdown",
   "metadata": {},
   "source": [
    "## 2.What are the three different types of Boolean operators?\n",
    "\n",
    "### *and, or, not*"
   ]
  },
  {
   "cell_type": "markdown",
   "metadata": {},
   "source": [
    "## 3. Make a list of each Boolean operators truth tables (i.e. every possible combination of    Boolean values for the operator and what it evaluate ).\n",
    "\n",
    "### * AND \n",
    "\n",
    "| x | y | x*y |\n",
    "|-----|-----|----------|\n",
    "| 0 | 1 | 0 |\n",
    "| 1 | 0 | 0 |\n",
    "| 0 | 0 | 0 |\n",
    "| 1 | 1 | 1 |\n",
    "\n",
    "\n",
    "### * OR \n",
    "\n",
    "| x | y | x+y |\n",
    "|-----|-----|----------|\n",
    "| 0 | 1 | 1 |\n",
    "| 1 | 0 | 1 |\n",
    "| 0 | 0 | 0 |\n",
    "| 1 | 1 | 1 |\n",
    "\n",
    "### * NOT\n",
    "\n",
    "| x | x' |\n",
    "|-----|----------|\n",
    "| 0 | 1 |\n",
    "| 1 | 0 |\n",
    "\n",
    "### * XOR\n",
    "\n",
    "| x | y | x' | y'| xy' | x'y | x$y^{'}$ + $x^{'}$y |\n",
    "|---|---|---|---|---|---|--------|\n",
    "| 0 | 1 | 1 | 0 | 0 | 1 | 1 |\n",
    "| 1 | 0 | 0 | 1 | 1 | 0 | 1 |\n",
    "| 0 | 0 | 1 | 1 | 0 | 0 | 0 |\n",
    "| 1 | 1 | 0 | 0 | 0 | 0 | 0 |\n",
    "\n",
    "### * XNOR\n",
    "\n",
    "| x | y | (x$y^{'}$ + $x^{'}$y$)^{'}$ |\n",
    "|---|---|--------|\n",
    "| 0 | 1 | 0 |\n",
    "| 1 | 0 | 0 |\n",
    "| 0 | 0 | 1 |\n",
    "| 1 | 1 | 1 |\n",
    "\n",
    "### * NOR  -----> Negation of OR\n",
    "### * NAND ----> Negation of AND"
   ]
  },
  {
   "cell_type": "markdown",
   "metadata": {},
   "source": [
    "# 4. What are the values of the following expressions?"
   ]
  },
  {
   "cell_type": "code",
   "execution_count": 40,
   "metadata": {},
   "outputs": [
    {
     "name": "stdout",
     "output_type": "stream",
     "text": [
      "(5 > 4) and (3 == 5) ==> False\n",
      "\n",
      "not (5 > 4) ==> False\n",
      "\n",
      "(5 > 4) or (3 == 5) ==> True\n",
      "\n",
      "not ((5 > 4) or (3 == 5)) ==> False\n",
      "\n",
      "(True and True) and (True == False) ==> False\n",
      "\n",
      "(not False) or (not True) ==> True\n"
     ]
    }
   ],
   "source": [
    "print(\"(5 > 4) and (3 == 5) ==>\", (5 > 4) and (3 == 5))\n",
    "print()\n",
    "print(\"not (5 > 4) ==>\",not (5 > 4))\n",
    "print()\n",
    "print(\"(5 > 4) or (3 == 5) ==>\",(5 > 4) or (3 == 5))\n",
    "print()\n",
    "print(\"not ((5 > 4) or (3 == 5)) ==>\",not ((5 > 4) or (3 == 5)))\n",
    "print()\n",
    "print(\"(True and True) and (True == False) ==>\",(True and True) and (True == False))\n",
    "print()\n",
    "print(\"(not False) or (not True) ==>\",(not False) or (not True))"
   ]
  },
  {
   "cell_type": "markdown",
   "metadata": {},
   "source": [
    "# 5. What are the six comparison operators?\n",
    "### >=, <=, ==, != , > , <"
   ]
  },
  {
   "cell_type": "markdown",
   "metadata": {},
   "source": [
    "# 6. How do you tell the difference between the equal to and assignment operators?Describe a condition and when you would use one."
   ]
  },
  {
   "cell_type": "code",
   "execution_count": 50,
   "metadata": {},
   "outputs": [
    {
     "name": "stdout",
     "output_type": "stream",
     "text": [
      "10\n"
     ]
    }
   ],
   "source": [
    "def fun(*args):\n",
    "    z = 0\n",
    "    for i in args:\n",
    "        z += i\n",
    "    return z\n",
    "\n",
    "l = [1,2,3,4]\n",
    "print(fun(*l))"
   ]
  },
  {
   "cell_type": "code",
   "execution_count": 52,
   "metadata": {},
   "outputs": [
    {
     "name": "stdout",
     "output_type": "stream",
     "text": [
      "15\n"
     ]
    }
   ],
   "source": [
    "a = 5\n",
    "b = 10\n",
    "a += b\n",
    "print(a)     # a value has changed"
   ]
  },
  {
   "cell_type": "code",
   "execution_count": 54,
   "metadata": {},
   "outputs": [
    {
     "name": "stdout",
     "output_type": "stream",
     "text": [
      "5\n"
     ]
    }
   ],
   "source": [
    "a = 5\n",
    "b = 10\n",
    "c = a + b\n",
    "print(a)    # a value has not changed"
   ]
  },
  {
   "cell_type": "markdown",
   "metadata": {},
   "source": [
    "# 7. Identify the three blocks in this code:"
   ]
  },
  {
   "cell_type": "code",
   "execution_count": 55,
   "metadata": {},
   "outputs": [
    {
     "name": "stdout",
     "output_type": "stream",
     "text": [
      "ham\n",
      "spam\n",
      "spam\n"
     ]
    }
   ],
   "source": [
    "spam = 0\n",
    "if spam == 10:\n",
    "    print('eggs')\n",
    "if spam > 5:\n",
    "    print('bacon')\n",
    "else:\n",
    "    print('ham')\n",
    "    print('spam')\n",
    "print('spam')"
   ]
  },
  {
   "cell_type": "markdown",
   "metadata": {},
   "source": [
    "# 8. Write code that prints Hello if 1 is stored in spam, prints Howdy if 2 is stored in spam, and prints Greetings! if anything else is stored in spam."
   ]
  },
  {
   "cell_type": "code",
   "execution_count": 66,
   "metadata": {},
   "outputs": [
    {
     "name": "stdout",
     "output_type": "stream",
     "text": [
      "Hello\n"
     ]
    }
   ],
   "source": [
    "def fun(x):\n",
    "    if x == 1:\n",
    "        print('Hello')\n",
    "    elif x == 2:\n",
    "        print('Howdy')\n",
    "    else:\n",
    "        print('Greetings')\n",
    "\n",
    "spam = 1        \n",
    "obj = fun(spam)"
   ]
  },
  {
   "cell_type": "markdown",
   "metadata": {},
   "source": [
    "# 9. If your programme is stuck in an endless loop, what keys you’ll press?\n",
    "\n",
    "### *Ctrl + C* \n",
    "### *Esc , I, I*"
   ]
  },
  {
   "cell_type": "code",
   "execution_count": null,
   "metadata": {},
   "outputs": [],
   "source": [
    "while True:      # endless loop\n",
    "    print(*)   "
   ]
  },
  {
   "cell_type": "markdown",
   "metadata": {},
   "source": [
    "# 10. How can you tell the difference between break and continue?"
   ]
  },
  {
   "cell_type": "code",
   "execution_count": 69,
   "metadata": {},
   "outputs": [
    {
     "name": "stdout",
     "output_type": "stream",
     "text": [
      "1 2 3 4 5 6 7 8 9 10 "
     ]
    }
   ],
   "source": [
    "i = 0\n",
    "while True:\n",
    "    i += 1\n",
    "    print(i , end = \" \")      \n",
    "    \n",
    "    if i == 10:\n",
    "        break                   # iteration will stop when i = 10"
   ]
  },
  {
   "cell_type": "code",
   "execution_count": 71,
   "metadata": {},
   "outputs": [
    {
     "name": "stdout",
     "output_type": "stream",
     "text": [
      "1 2 3 4 6 7 8 9 10 "
     ]
    }
   ],
   "source": [
    "for i in range(1,11):\n",
    "    if i == 5:\n",
    "        continue                  # when i = 5 it skips the iteration and goto next iteration.\n",
    "    else:\n",
    "        print(i, end =\" \")"
   ]
  },
  {
   "cell_type": "markdown",
   "metadata": {},
   "source": [
    "# 11. In a for loop, what is the difference between range(10), range(0, 10), and range(0, 10, 1)?"
   ]
  },
  {
   "cell_type": "code",
   "execution_count": 80,
   "metadata": {},
   "outputs": [
    {
     "name": "stdout",
     "output_type": "stream",
     "text": [
      "True\n"
     ]
    }
   ],
   "source": [
    "l1 =[i for i in range(10)]\n",
    "l2 = [i for i in range(0,10)]\n",
    "l3 = [i for i in range(0,10,1)]\n",
    "print(l1 == l2 and l2 == l3 and l1 == l3)    # All are same so, no difference"
   ]
  },
  {
   "cell_type": "markdown",
   "metadata": {},
   "source": [
    "# 12. Write a short program that prints the numbers 1 to 10 using a for loop. Then write an equivalent program that prints the numbers 1 to 10 using a while loop."
   ]
  },
  {
   "cell_type": "code",
   "execution_count": 92,
   "metadata": {},
   "outputs": [
    {
     "data": {
      "text/plain": [
       "[1, 2, 3, 4, 5, 6, 7, 8, 9, 10]"
      ]
     },
     "execution_count": 92,
     "metadata": {},
     "output_type": "execute_result"
    }
   ],
   "source": [
    "[i for i in range(1,11)]"
   ]
  },
  {
   "cell_type": "code",
   "execution_count": 90,
   "metadata": {},
   "outputs": [
    {
     "name": "stdout",
     "output_type": "stream",
     "text": [
      "[1, 2, 3, 4, 5, 6, 7, 8, 9, 10]\n"
     ]
    }
   ],
   "source": [
    "l=[]\n",
    "x = 0\n",
    "while x < 10:\n",
    "    x += 1\n",
    "    l.append(x)\n",
    "print(l)"
   ]
  },
  {
   "cell_type": "markdown",
   "metadata": {},
   "source": [
    "# 13. If you had a function named bacon() inside a module named spam, how would you call it after importing spam?\n",
    "\n",
    "### *spam.bacon()*"
   ]
  }
 ],
 "metadata": {
  "kernelspec": {
   "display_name": "Python 3",
   "language": "python",
   "name": "python3"
  },
  "language_info": {
   "codemirror_mode": {
    "name": "ipython",
    "version": 3
   },
   "file_extension": ".py",
   "mimetype": "text/x-python",
   "name": "python",
   "nbconvert_exporter": "python",
   "pygments_lexer": "ipython3",
   "version": "3.8.5"
  }
 },
 "nbformat": 4,
 "nbformat_minor": 4
}
