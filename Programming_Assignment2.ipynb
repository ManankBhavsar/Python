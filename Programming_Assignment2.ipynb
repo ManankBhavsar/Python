{
 "cells": [
  {
   "cell_type": "markdown",
   "metadata": {},
   "source": [
    "# 1. Write a Python program to convert kilometers to miles?"
   ]
  },
  {
   "cell_type": "code",
   "execution_count": 12,
   "metadata": {},
   "outputs": [
    {
     "name": "stdout",
     "output_type": "stream",
     "text": [
      "Please Enter Km to convert to miles :2\n",
      "1.2426\n"
     ]
    }
   ],
   "source": [
    "def km_2_miles(x):\n",
    "    \n",
    "    miles = 0.6213*float(x)\n",
    "    return round(miles,4)\n",
    "\n",
    "def main():\n",
    "    i = input(\"Please Enter Km to convert to miles :\")\n",
    "    print(km_2_miles(i))\n",
    "    \n",
    "if __name__ == \"__main__\":\n",
    "    main()"
   ]
  },
  {
   "cell_type": "markdown",
   "metadata": {},
   "source": [
    "# 2. Write a Python program to convert Celsius to Fahrenheit?"
   ]
  },
  {
   "cell_type": "code",
   "execution_count": 16,
   "metadata": {},
   "outputs": [
    {
     "name": "stdout",
     "output_type": "stream",
     "text": [
      "Please Enter Celsius to convert to Fahrenheit :2\n",
      "35.6 F\n"
     ]
    }
   ],
   "source": [
    "def celsius_2_fahrenheit(x):\n",
    "    \n",
    "    fahrenheit = (float(x)*(9/5)) + 32\n",
    "    return round(fahrenheit,1)\n",
    "\n",
    "def main():\n",
    "    i = input(\"Please Enter Celsius to convert to Fahrenheit :\")\n",
    "    print(celsius_2_fahrenheit(i), \"F\")\n",
    "    \n",
    "if __name__ == \"__main__\":\n",
    "    main()"
   ]
  },
  {
   "cell_type": "markdown",
   "metadata": {},
   "source": [
    "# 3. Write a Python program to display calendar?"
   ]
  },
  {
   "cell_type": "code",
   "execution_count": 38,
   "metadata": {},
   "outputs": [
    {
     "name": "stdout",
     "output_type": "stream",
     "text": [
      "Please Enter year in 'yyyy' format :2015\n",
      "Please Enter month in 'mm' format :1\n",
      "\n",
      "    January 2015\n",
      "Mo Tu We Th Fr Sa Su\n",
      "          1  2  3  4\n",
      " 5  6  7  8  9 10 11\n",
      "12 13 14 15 16 17 18\n",
      "19 20 21 22 23 24 25\n",
      "26 27 28 29 30 31\n",
      "\n"
     ]
    }
   ],
   "source": [
    "import calendar\n",
    "\n",
    "def display_calendar(x, y):\n",
    "    yyyy = x\n",
    "    mm = y\n",
    "    return calendar.month(yyyy, mm)\n",
    "\n",
    "def main():\n",
    "    year = int(input(\"Please Enter year in 'yyyy' format :\"))\n",
    "    month = int(input(\"Please Enter month in 'mm' format :\"))\n",
    "    print()\n",
    "    print(display_calendar(year, month))\n",
    "\n",
    "if __name__ == \"__main__\":\n",
    "    main()"
   ]
  },
  {
   "cell_type": "markdown",
   "metadata": {},
   "source": [
    "# 4. Write a Python program to solve quadratic equation?"
   ]
  },
  {
   "cell_type": "code",
   "execution_count": 67,
   "metadata": {},
   "outputs": [
    {
     "name": "stdout",
     "output_type": "stream",
     "text": [
      "Please input the values of a:1\n",
      "Please input the values of b:5\n",
      "Please input the values of c:4\n",
      "(1.0x^2) + (5.0x) + 4.0 = 0 :  (-1.0, -4.0)\n"
     ]
    }
   ],
   "source": [
    "import math\n",
    "\n",
    "def quadratic(a, b, c):\n",
    "    \n",
    "    if a != 0:\n",
    "    \n",
    "        D = (b**2) - (4*a*c)\n",
    "        x1 = (-b + math.sqrt(D))/(2*a)\n",
    "        x2 = (-b - math.sqrt(D))/(2*a)\n",
    "    \n",
    "        return x1, x2\n",
    "    \n",
    "    else:\n",
    "        print()\n",
    "        print()\n",
    "        print(\"value of 'a' cannot be zero\")\n",
    "        main()\n",
    "\n",
    "def main():\n",
    "    p = float(input(\"Please input the values of a:\"))\n",
    "    q = float(input(\"Please input the values of b:\"))\n",
    "    r = float(input(\"Please input the values of c:\"))\n",
    "    print(\"({0}x^2) + ({1}x) + {2} = 0 : \".format(p,q,r),quadratic(p,q,r))\n",
    "\n",
    "if __name__ == \"__main__\":\n",
    "    main()"
   ]
  },
  {
   "cell_type": "markdown",
   "metadata": {},
   "source": [
    "# 5. Write a Python program to swap two variables without temp variable?"
   ]
  },
  {
   "cell_type": "code",
   "execution_count": 73,
   "metadata": {},
   "outputs": [
    {
     "name": "stdout",
     "output_type": "stream",
     "text": [
      "Please input the value of a: 5\n",
      "Please input the value of b: 6\n",
      "a : 6 , b : 5\n"
     ]
    }
   ],
   "source": [
    "def swap(x,y):\n",
    "    x,y = y,x\n",
    "    return x, y\n",
    "\n",
    "def main():\n",
    "    a = input(\"Please input the value of a: \")\n",
    "    b = input(\"Please input the value of b: \")\n",
    "    i,j = swap(a,b)\n",
    "    print(\"a : {0} , b : {1}\".format(i,j))\n",
    "\n",
    "if __name__ == \"__main__\":\n",
    "    main()"
   ]
  }
 ],
 "metadata": {
  "kernelspec": {
   "display_name": "Python 3",
   "language": "python",
   "name": "python3"
  },
  "language_info": {
   "codemirror_mode": {
    "name": "ipython",
    "version": 3
   },
   "file_extension": ".py",
   "mimetype": "text/x-python",
   "name": "python",
   "nbconvert_exporter": "python",
   "pygments_lexer": "ipython3",
   "version": "3.8.5"
  }
 },
 "nbformat": 4,
 "nbformat_minor": 4
}
